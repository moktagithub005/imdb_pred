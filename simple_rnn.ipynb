{
 "cells": [
  {
   "cell_type": "code",
   "execution_count": 1,
   "metadata": {},
   "outputs": [],
   "source": [
    "import tensorflow as tf\n",
    "from tensorflow import keras\n",
    "from tensorflow.keras.datasets import imdb\n",
    "from tensorflow.keras.preprocessing import sequence"
   ]
  },
  {
   "cell_type": "code",
   "execution_count": 2,
   "metadata": {},
   "outputs": [],
   "source": [
    "##define hyperparameters\n",
    "max_features=10000 # voc size\n",
    "max_len=500"
   ]
  },
  {
   "cell_type": "code",
   "execution_count": 3,
   "metadata": {},
   "outputs": [],
   "source": [
    "(X_train,y_train),(X_test,y_test)=imdb.load_data(num_words=max_features)"
   ]
  },
  {
   "cell_type": "code",
   "execution_count": 4,
   "metadata": {},
   "outputs": [],
   "source": [
    "## pad sequence to ensure uniform input size\n",
    "X_train=sequence.pad_sequences(X_train,maxlen=max_len)\n",
    "X_test=sequence.pad_sequences(X_test,maxlen=max_len)"
   ]
  },
  {
   "cell_type": "code",
   "execution_count": 5,
   "metadata": {},
   "outputs": [],
   "source": [
    "## build a rn model\n",
    "model=keras.Sequential([\n",
    "    keras.layers.Embedding(input_dim=max_features,output_dim=128),\n",
    "    keras.layers.SimpleRNN(64,return_sequences=False),\n",
    "    keras.layers.Dense(1,activation='sigmoid')\n",
    "\n",
    "])"
   ]
  },
  {
   "cell_type": "code",
   "execution_count": 6,
   "metadata": {},
   "outputs": [
    {
     "name": "stdout",
     "output_type": "stream",
     "text": [
      "Model: \"sequential\"\n",
      "_________________________________________________________________\n",
      " Layer (type)                Output Shape              Param #   \n",
      "=================================================================\n",
      " embedding (Embedding)       (None, None, 128)         1280000   \n",
      "                                                                 \n",
      " simple_rnn (SimpleRNN)      (None, 64)                12352     \n",
      "                                                                 \n",
      " dense (Dense)               (None, 1)                 65        \n",
      "                                                                 \n",
      "=================================================================\n",
      "Total params: 1,292,417\n",
      "Trainable params: 1,292,417\n",
      "Non-trainable params: 0\n",
      "_________________________________________________________________\n"
     ]
    }
   ],
   "source": [
    "model.summary()"
   ]
  },
  {
   "cell_type": "code",
   "execution_count": 7,
   "metadata": {},
   "outputs": [],
   "source": [
    "##compile model\n",
    "model.compile(optimizer='adam',loss='binary_crossentropy',metrics=['accuracy'])"
   ]
  },
  {
   "cell_type": "code",
   "execution_count": 8,
   "metadata": {},
   "outputs": [
    {
     "name": "stdout",
     "output_type": "stream",
     "text": [
      "Epoch 1/10\n",
      "782/782 [==============================] - 61s 77ms/step - loss: 0.5886 - accuracy: 0.6725\n",
      "Epoch 2/10\n",
      "782/782 [==============================] - 77s 99ms/step - loss: 0.5280 - accuracy: 0.7330\n",
      "Epoch 3/10\n",
      "782/782 [==============================] - 85s 109ms/step - loss: 0.4669 - accuracy: 0.7808\n",
      "Epoch 4/10\n",
      "782/782 [==============================] - 136s 174ms/step - loss: 0.3771 - accuracy: 0.8380\n",
      "Epoch 5/10\n",
      "782/782 [==============================] - 145s 186ms/step - loss: 0.3665 - accuracy: 0.8371\n",
      "Epoch 6/10\n",
      "782/782 [==============================] - 153s 195ms/step - loss: 0.4544 - accuracy: 0.7762\n",
      "Epoch 7/10\n",
      "782/782 [==============================] - 175s 224ms/step - loss: 0.4953 - accuracy: 0.7453\n",
      "Epoch 8/10\n",
      "782/782 [==============================] - 140s 179ms/step - loss: 0.4864 - accuracy: 0.7502\n",
      "Epoch 9/10\n",
      "782/782 [==============================] - 140s 179ms/step - loss: 0.5129 - accuracy: 0.7306\n",
      "Epoch 10/10\n",
      "782/782 [==============================] - 159s 204ms/step - loss: 0.4902 - accuracy: 0.7402\n"
     ]
    }
   ],
   "source": [
    "## train model\n",
    "model.fit(X_train,y_train,epochs=10,batch_size=32)\n",
    "validation_data=(X_test,y_test)"
   ]
  },
  {
   "cell_type": "code",
   "execution_count": 10,
   "metadata": {},
   "outputs": [
    {
     "name": "stdout",
     "output_type": "stream",
     "text": [
      "\n",
      "Evaluating model...\n",
      "782/782 [==============================] - 25s 32ms/step - loss: 0.6906 - accuracy: 0.6346\n",
      "Test Accuracy: 0.6346\n"
     ]
    }
   ],
   "source": [
    "# Evaluate the model\n",
    "print(\"\\nEvaluating model...\")\n",
    "loss, accuracy = model.evaluate(X_test, y_test)\n",
    "print(f'Test Accuracy: {accuracy:.4f}')"
   ]
  },
  {
   "cell_type": "code",
   "execution_count": 11,
   "metadata": {},
   "outputs": [
    {
     "name": "stdout",
     "output_type": "stream",
     "text": [
      "\n",
      "Saving model...\n"
     ]
    }
   ],
   "source": [
    "# Save the model\n",
    "print(\"\\nSaving model...\")\n",
    "model.save(\"imdb_sentiment_model.keras\", save_format=\"keras\")\n"
   ]
  },
  {
   "cell_type": "code",
   "execution_count": 12,
   "metadata": {},
   "outputs": [],
   "source": [
    "# Save the word index for later use\n",
    "word_index = imdb.get_word_index()\n"
   ]
  },
  {
   "cell_type": "code",
   "execution_count": 13,
   "metadata": {},
   "outputs": [],
   "source": [
    "# Reverse word index to get words from indices\n",
    "reverse_word_index = dict([(value, key) for (key, value) in word_index.items()])"
   ]
  },
  {
   "cell_type": "code",
   "execution_count": 14,
   "metadata": {},
   "outputs": [
    {
     "name": "stdout",
     "output_type": "stream",
     "text": [
      "Model and word index saved successfully!\n"
     ]
    }
   ],
   "source": [
    "# Save the word index mapping for later use\n",
    "import pickle\n",
    "with open('word_index.pkl', 'wb') as f:\n",
    "    pickle.dump({'word_index': word_index, 'reverse_word_index': reverse_word_index}, f)\n",
    "\n",
    "print(\"Model and word index saved successfully!\")"
   ]
  },
  {
   "cell_type": "code",
   "execution_count": null,
   "metadata": {},
   "outputs": [],
   "source": []
  }
 ],
 "metadata": {
  "kernelspec": {
   "display_name": "mokta_env",
   "language": "python",
   "name": "python3"
  },
  "language_info": {
   "codemirror_mode": {
    "name": "ipython",
    "version": 3
   },
   "file_extension": ".py",
   "mimetype": "text/x-python",
   "name": "python",
   "nbconvert_exporter": "python",
   "pygments_lexer": "ipython3",
   "version": "3.10.16"
  }
 },
 "nbformat": 4,
 "nbformat_minor": 2
}
